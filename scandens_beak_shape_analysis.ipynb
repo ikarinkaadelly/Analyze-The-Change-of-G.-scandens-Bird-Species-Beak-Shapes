{
 "cells": [
  {
   "cell_type": "markdown",
   "metadata": {
    "dc": {
     "key": "3"
    },
    "run_control": {
     "frozen": true
    },
    "tags": [
     "context"
    ]
   },
   "source": [
    "# Gathering and Cleaning Data"
   ]
  },
  {
   "cell_type": "code",
   "execution_count": 1,
   "metadata": {},
   "outputs": [],
   "source": [
    "import pandas as pd\n",
    "import numpy as np\n",
    "import seaborn as sns\n",
    "import matplotlib.pyplot as plt\n",
    "from scipy import stats"
   ]
  },
  {
   "cell_type": "code",
   "execution_count": 2,
   "metadata": {},
   "outputs": [],
   "source": [
    "beaks_1975 = pd.read_csv('scandens_beaks_1975.csv')\n",
    "beaks_2012 = pd.read_csv('scandens_beaks_2012.csv')"
   ]
  },
  {
   "cell_type": "code",
   "execution_count": 3,
   "metadata": {},
   "outputs": [
    {
     "name": "stdout",
     "output_type": "stream",
     "text": [
      "<class 'pandas.core.frame.DataFrame'>\n",
      "RangeIndex: 87 entries, 0 to 86\n",
      "Data columns (total 4 columns):\n",
      "band               87 non-null int64\n",
      "species            87 non-null object\n",
      "Beak length, mm    87 non-null float64\n",
      "Beak depth, mm     87 non-null float64\n",
      "dtypes: float64(2), int64(1), object(1)\n",
      "memory usage: 2.8+ KB\n"
     ]
    }
   ],
   "source": [
    "beaks_1975.info()"
   ]
  },
  {
   "cell_type": "markdown",
   "metadata": {},
   "source": [
    "<p> There is no missing data. <p/>"
   ]
  },
  {
   "cell_type": "code",
   "execution_count": 4,
   "metadata": {},
   "outputs": [
    {
     "data": {
      "text/html": [
       "<div>\n",
       "<style scoped>\n",
       "    .dataframe tbody tr th:only-of-type {\n",
       "        vertical-align: middle;\n",
       "    }\n",
       "\n",
       "    .dataframe tbody tr th {\n",
       "        vertical-align: top;\n",
       "    }\n",
       "\n",
       "    .dataframe thead th {\n",
       "        text-align: right;\n",
       "    }\n",
       "</style>\n",
       "<table border=\"1\" class=\"dataframe\">\n",
       "  <thead>\n",
       "    <tr style=\"text-align: right;\">\n",
       "      <th></th>\n",
       "      <th>band</th>\n",
       "      <th>species</th>\n",
       "      <th>Beak length, mm</th>\n",
       "      <th>Beak depth, mm</th>\n",
       "    </tr>\n",
       "  </thead>\n",
       "  <tbody>\n",
       "    <tr>\n",
       "      <td>0</td>\n",
       "      <td>302</td>\n",
       "      <td>scandens</td>\n",
       "      <td>13.9</td>\n",
       "      <td>8.4</td>\n",
       "    </tr>\n",
       "    <tr>\n",
       "      <td>1</td>\n",
       "      <td>304</td>\n",
       "      <td>scandens</td>\n",
       "      <td>14.0</td>\n",
       "      <td>8.8</td>\n",
       "    </tr>\n",
       "    <tr>\n",
       "      <td>2</td>\n",
       "      <td>306</td>\n",
       "      <td>scandens</td>\n",
       "      <td>12.9</td>\n",
       "      <td>8.4</td>\n",
       "    </tr>\n",
       "    <tr>\n",
       "      <td>3</td>\n",
       "      <td>310</td>\n",
       "      <td>scandens</td>\n",
       "      <td>13.5</td>\n",
       "      <td>8.0</td>\n",
       "    </tr>\n",
       "    <tr>\n",
       "      <td>4</td>\n",
       "      <td>317</td>\n",
       "      <td>scandens</td>\n",
       "      <td>12.9</td>\n",
       "      <td>7.9</td>\n",
       "    </tr>\n",
       "  </tbody>\n",
       "</table>\n",
       "</div>"
      ],
      "text/plain": [
       "   band   species  Beak length, mm  Beak depth, mm\n",
       "0   302  scandens             13.9             8.4\n",
       "1   304  scandens             14.0             8.8\n",
       "2   306  scandens             12.9             8.4\n",
       "3   310  scandens             13.5             8.0\n",
       "4   317  scandens             12.9             7.9"
      ]
     },
     "execution_count": 4,
     "metadata": {},
     "output_type": "execute_result"
    }
   ],
   "source": [
    "beaks_1975.head()"
   ]
  },
  {
   "cell_type": "markdown",
   "metadata": {},
   "source": [
    "<p>The variables are:</p>\n",
    "<ul>\n",
    "<li><code>band</code> - a unique number that identifies each bird.</li>\n",
    "<li><code>species</code> - the species of the bird.</li>\n",
    "<li><code>Beak length, mm</code> - the length of the bird's beak in millimeters.</li>\n",
    "<li><code>Beak depth, mm</code> - the depth of the bird's beak (the distance, top to bottom, of a closed beak) in millimeters.</li>\n",
    "</ul>\n",
    "<p> Those are from year 1975.</p>"
   ]
  },
  {
   "cell_type": "code",
   "execution_count": 5,
   "metadata": {},
   "outputs": [
    {
     "data": {
      "text/html": [
       "<div>\n",
       "<style scoped>\n",
       "    .dataframe tbody tr th:only-of-type {\n",
       "        vertical-align: middle;\n",
       "    }\n",
       "\n",
       "    .dataframe tbody tr th {\n",
       "        vertical-align: top;\n",
       "    }\n",
       "\n",
       "    .dataframe thead th {\n",
       "        text-align: right;\n",
       "    }\n",
       "</style>\n",
       "<table border=\"1\" class=\"dataframe\">\n",
       "  <thead>\n",
       "    <tr style=\"text-align: right;\">\n",
       "      <th></th>\n",
       "      <th>band</th>\n",
       "      <th>Beak length, mm</th>\n",
       "      <th>Beak depth, mm</th>\n",
       "    </tr>\n",
       "  </thead>\n",
       "  <tbody>\n",
       "    <tr>\n",
       "      <td>count</td>\n",
       "      <td>87.000000</td>\n",
       "      <td>87.000000</td>\n",
       "      <td>87.000000</td>\n",
       "    </tr>\n",
       "    <tr>\n",
       "      <td>mean</td>\n",
       "      <td>2985.264368</td>\n",
       "      <td>14.120920</td>\n",
       "      <td>8.960000</td>\n",
       "    </tr>\n",
       "    <tr>\n",
       "      <td>std</td>\n",
       "      <td>6309.578017</td>\n",
       "      <td>0.754789</td>\n",
       "      <td>0.566595</td>\n",
       "    </tr>\n",
       "    <tr>\n",
       "      <td>min</td>\n",
       "      <td>302.000000</td>\n",
       "      <td>12.800000</td>\n",
       "      <td>7.900000</td>\n",
       "    </tr>\n",
       "    <tr>\n",
       "      <td>25%</td>\n",
       "      <td>405.000000</td>\n",
       "      <td>13.500000</td>\n",
       "      <td>8.550000</td>\n",
       "    </tr>\n",
       "    <tr>\n",
       "      <td>50%</td>\n",
       "      <td>570.000000</td>\n",
       "      <td>14.000000</td>\n",
       "      <td>9.000000</td>\n",
       "    </tr>\n",
       "    <tr>\n",
       "      <td>75%</td>\n",
       "      <td>917.000000</td>\n",
       "      <td>14.740000</td>\n",
       "      <td>9.250000</td>\n",
       "    </tr>\n",
       "    <tr>\n",
       "      <td>max</td>\n",
       "      <td>20279.000000</td>\n",
       "      <td>15.940000</td>\n",
       "      <td>10.400000</td>\n",
       "    </tr>\n",
       "  </tbody>\n",
       "</table>\n",
       "</div>"
      ],
      "text/plain": [
       "               band  Beak length, mm  Beak depth, mm\n",
       "count     87.000000        87.000000       87.000000\n",
       "mean    2985.264368        14.120920        8.960000\n",
       "std     6309.578017         0.754789        0.566595\n",
       "min      302.000000        12.800000        7.900000\n",
       "25%      405.000000        13.500000        8.550000\n",
       "50%      570.000000        14.000000        9.000000\n",
       "75%      917.000000        14.740000        9.250000\n",
       "max    20279.000000        15.940000       10.400000"
      ]
     },
     "execution_count": 5,
     "metadata": {},
     "output_type": "execute_result"
    }
   ],
   "source": [
    "beaks_1975.describe()"
   ]
  },
  {
   "cell_type": "markdown",
   "metadata": {},
   "source": [
    "<p> The data range of beak length and beak depth seems good, no extreme outlier. <p/>"
   ]
  },
  {
   "cell_type": "code",
   "execution_count": 6,
   "metadata": {},
   "outputs": [
    {
     "data": {
      "text/plain": [
       "scandens    87\n",
       "Name: species, dtype: int64"
      ]
     },
     "execution_count": 6,
     "metadata": {},
     "output_type": "execute_result"
    }
   ],
   "source": [
    "beaks_1975.species.value_counts()"
   ]
  },
  {
   "cell_type": "markdown",
   "metadata": {},
   "source": [
    "<p> This data only contain data from Scandens species. </p>"
   ]
  },
  {
   "cell_type": "code",
   "execution_count": 7,
   "metadata": {},
   "outputs": [
    {
     "name": "stdout",
     "output_type": "stream",
     "text": [
      "<class 'pandas.core.frame.DataFrame'>\n",
      "RangeIndex: 127 entries, 0 to 126\n",
      "Data columns (total 4 columns):\n",
      "band       127 non-null int64\n",
      "species    127 non-null object\n",
      "blength    127 non-null float64\n",
      "bdepth     127 non-null float64\n",
      "dtypes: float64(2), int64(1), object(1)\n",
      "memory usage: 4.1+ KB\n"
     ]
    }
   ],
   "source": [
    "beaks_2012.info()"
   ]
  },
  {
   "cell_type": "markdown",
   "metadata": {},
   "source": [
    "<p> There is no missing data. <p/>"
   ]
  },
  {
   "cell_type": "code",
   "execution_count": 8,
   "metadata": {},
   "outputs": [
    {
     "data": {
      "text/html": [
       "<div>\n",
       "<style scoped>\n",
       "    .dataframe tbody tr th:only-of-type {\n",
       "        vertical-align: middle;\n",
       "    }\n",
       "\n",
       "    .dataframe tbody tr th {\n",
       "        vertical-align: top;\n",
       "    }\n",
       "\n",
       "    .dataframe thead th {\n",
       "        text-align: right;\n",
       "    }\n",
       "</style>\n",
       "<table border=\"1\" class=\"dataframe\">\n",
       "  <thead>\n",
       "    <tr style=\"text-align: right;\">\n",
       "      <th></th>\n",
       "      <th>band</th>\n",
       "      <th>species</th>\n",
       "      <th>blength</th>\n",
       "      <th>bdepth</th>\n",
       "    </tr>\n",
       "  </thead>\n",
       "  <tbody>\n",
       "    <tr>\n",
       "      <td>0</td>\n",
       "      <td>19026</td>\n",
       "      <td>scandens</td>\n",
       "      <td>14.3</td>\n",
       "      <td>9.4</td>\n",
       "    </tr>\n",
       "    <tr>\n",
       "      <td>1</td>\n",
       "      <td>19028</td>\n",
       "      <td>scandens</td>\n",
       "      <td>12.5</td>\n",
       "      <td>8.9</td>\n",
       "    </tr>\n",
       "    <tr>\n",
       "      <td>2</td>\n",
       "      <td>19029</td>\n",
       "      <td>scandens</td>\n",
       "      <td>13.7</td>\n",
       "      <td>9.5</td>\n",
       "    </tr>\n",
       "    <tr>\n",
       "      <td>3</td>\n",
       "      <td>19094</td>\n",
       "      <td>scandens</td>\n",
       "      <td>13.8</td>\n",
       "      <td>11.0</td>\n",
       "    </tr>\n",
       "    <tr>\n",
       "      <td>4</td>\n",
       "      <td>19122</td>\n",
       "      <td>scandens</td>\n",
       "      <td>12.0</td>\n",
       "      <td>8.7</td>\n",
       "    </tr>\n",
       "  </tbody>\n",
       "</table>\n",
       "</div>"
      ],
      "text/plain": [
       "    band   species  blength  bdepth\n",
       "0  19026  scandens     14.3     9.4\n",
       "1  19028  scandens     12.5     8.9\n",
       "2  19029  scandens     13.7     9.5\n",
       "3  19094  scandens     13.8    11.0\n",
       "4  19122  scandens     12.0     8.7"
      ]
     },
     "execution_count": 8,
     "metadata": {},
     "output_type": "execute_result"
    }
   ],
   "source": [
    "beaks_2012.head()"
   ]
  },
  {
   "cell_type": "markdown",
   "metadata": {},
   "source": [
    "<p>The variables are:</p>\n",
    "<ul>\n",
    "<li><code>band</code> - a unique number that identifies each bird.</li>\n",
    "<li><code>species</code> - the species of the bird.</li>\n",
    "<li><code>blength, mm</code> - the length of the bird's beak in millimeters.</li>\n",
    "<li><code>bdepth, mm</code> - the depth of the bird's beak (the distance, top to bottom, of a closed beak) in millimeters.</li>\n",
    "</ul>\n",
    "<p> Those are from year 2012.</p>"
   ]
  },
  {
   "cell_type": "code",
   "execution_count": 9,
   "metadata": {},
   "outputs": [
    {
     "data": {
      "text/html": [
       "<div>\n",
       "<style scoped>\n",
       "    .dataframe tbody tr th:only-of-type {\n",
       "        vertical-align: middle;\n",
       "    }\n",
       "\n",
       "    .dataframe tbody tr th {\n",
       "        vertical-align: top;\n",
       "    }\n",
       "\n",
       "    .dataframe thead th {\n",
       "        text-align: right;\n",
       "    }\n",
       "</style>\n",
       "<table border=\"1\" class=\"dataframe\">\n",
       "  <thead>\n",
       "    <tr style=\"text-align: right;\">\n",
       "      <th></th>\n",
       "      <th>band</th>\n",
       "      <th>blength</th>\n",
       "      <th>bdepth</th>\n",
       "    </tr>\n",
       "  </thead>\n",
       "  <tbody>\n",
       "    <tr>\n",
       "      <td>count</td>\n",
       "      <td>127.000000</td>\n",
       "      <td>127.000000</td>\n",
       "      <td>127.000000</td>\n",
       "    </tr>\n",
       "    <tr>\n",
       "      <td>mean</td>\n",
       "      <td>20145.086614</td>\n",
       "      <td>13.421024</td>\n",
       "      <td>9.186220</td>\n",
       "    </tr>\n",
       "    <tr>\n",
       "      <td>std</td>\n",
       "      <td>841.243307</td>\n",
       "      <td>0.720393</td>\n",
       "      <td>0.669241</td>\n",
       "    </tr>\n",
       "    <tr>\n",
       "      <td>min</td>\n",
       "      <td>19026.000000</td>\n",
       "      <td>11.400000</td>\n",
       "      <td>7.700000</td>\n",
       "    </tr>\n",
       "    <tr>\n",
       "      <td>25%</td>\n",
       "      <td>19477.500000</td>\n",
       "      <td>13.000000</td>\n",
       "      <td>8.800000</td>\n",
       "    </tr>\n",
       "    <tr>\n",
       "      <td>50%</td>\n",
       "      <td>19766.000000</td>\n",
       "      <td>13.400000</td>\n",
       "      <td>9.200000</td>\n",
       "    </tr>\n",
       "    <tr>\n",
       "      <td>75%</td>\n",
       "      <td>21133.000000</td>\n",
       "      <td>13.900000</td>\n",
       "      <td>9.600000</td>\n",
       "    </tr>\n",
       "    <tr>\n",
       "      <td>max</td>\n",
       "      <td>21347.000000</td>\n",
       "      <td>15.200000</td>\n",
       "      <td>11.000000</td>\n",
       "    </tr>\n",
       "  </tbody>\n",
       "</table>\n",
       "</div>"
      ],
      "text/plain": [
       "               band     blength      bdepth\n",
       "count    127.000000  127.000000  127.000000\n",
       "mean   20145.086614   13.421024    9.186220\n",
       "std      841.243307    0.720393    0.669241\n",
       "min    19026.000000   11.400000    7.700000\n",
       "25%    19477.500000   13.000000    8.800000\n",
       "50%    19766.000000   13.400000    9.200000\n",
       "75%    21133.000000   13.900000    9.600000\n",
       "max    21347.000000   15.200000   11.000000"
      ]
     },
     "execution_count": 9,
     "metadata": {},
     "output_type": "execute_result"
    }
   ],
   "source": [
    "beaks_2012.describe()"
   ]
  },
  {
   "cell_type": "markdown",
   "metadata": {},
   "source": [
    "<p> The data range of beak length and beak depth seems good, no extreme outlier. <p/>"
   ]
  },
  {
   "cell_type": "code",
   "execution_count": 10,
   "metadata": {},
   "outputs": [
    {
     "data": {
      "text/plain": [
       "scandens    127\n",
       "Name: species, dtype: int64"
      ]
     },
     "execution_count": 10,
     "metadata": {},
     "output_type": "execute_result"
    }
   ],
   "source": [
    "beaks_2012.species.value_counts()"
   ]
  },
  {
   "cell_type": "markdown",
   "metadata": {},
   "source": [
    "<p> This data only contain data from Scandens species. </p>"
   ]
  },
  {
   "cell_type": "code",
   "execution_count": 11,
   "metadata": {},
   "outputs": [],
   "source": [
    "column = ['band', 'species', 'beak length (mm)', 'beak depth (mm)']"
   ]
  },
  {
   "cell_type": "code",
   "execution_count": 12,
   "metadata": {},
   "outputs": [],
   "source": [
    "beaks_1975.columns = column\n",
    "beaks_2012.columns = column\n",
    "beaks_1975['year'] = 1975\n",
    "beaks_2012['year'] = 2012\n",
    "beaks = beaks_1975.append(beaks_2012)"
   ]
  },
  {
   "cell_type": "code",
   "execution_count": 13,
   "metadata": {},
   "outputs": [
    {
     "name": "stdout",
     "output_type": "stream",
     "text": [
      "<class 'pandas.core.frame.DataFrame'>\n",
      "Int64Index: 214 entries, 0 to 126\n",
      "Data columns (total 5 columns):\n",
      "band                214 non-null int64\n",
      "species             214 non-null object\n",
      "beak length (mm)    214 non-null float64\n",
      "beak depth (mm)     214 non-null float64\n",
      "year                214 non-null int64\n",
      "dtypes: float64(2), int64(2), object(1)\n",
      "memory usage: 10.0+ KB\n"
     ]
    }
   ],
   "source": [
    "beaks.info()"
   ]
  },
  {
   "cell_type": "code",
   "execution_count": 14,
   "metadata": {},
   "outputs": [
    {
     "data": {
      "text/html": [
       "<div>\n",
       "<style scoped>\n",
       "    .dataframe tbody tr th:only-of-type {\n",
       "        vertical-align: middle;\n",
       "    }\n",
       "\n",
       "    .dataframe tbody tr th {\n",
       "        vertical-align: top;\n",
       "    }\n",
       "\n",
       "    .dataframe thead th {\n",
       "        text-align: right;\n",
       "    }\n",
       "</style>\n",
       "<table border=\"1\" class=\"dataframe\">\n",
       "  <thead>\n",
       "    <tr style=\"text-align: right;\">\n",
       "      <th></th>\n",
       "      <th>band</th>\n",
       "      <th>species</th>\n",
       "      <th>beak length (mm)</th>\n",
       "      <th>beak depth (mm)</th>\n",
       "      <th>year</th>\n",
       "    </tr>\n",
       "  </thead>\n",
       "  <tbody>\n",
       "    <tr>\n",
       "      <td>0</td>\n",
       "      <td>302</td>\n",
       "      <td>scandens</td>\n",
       "      <td>13.9</td>\n",
       "      <td>8.4</td>\n",
       "      <td>1975</td>\n",
       "    </tr>\n",
       "    <tr>\n",
       "      <td>1</td>\n",
       "      <td>304</td>\n",
       "      <td>scandens</td>\n",
       "      <td>14.0</td>\n",
       "      <td>8.8</td>\n",
       "      <td>1975</td>\n",
       "    </tr>\n",
       "    <tr>\n",
       "      <td>2</td>\n",
       "      <td>306</td>\n",
       "      <td>scandens</td>\n",
       "      <td>12.9</td>\n",
       "      <td>8.4</td>\n",
       "      <td>1975</td>\n",
       "    </tr>\n",
       "    <tr>\n",
       "      <td>3</td>\n",
       "      <td>310</td>\n",
       "      <td>scandens</td>\n",
       "      <td>13.5</td>\n",
       "      <td>8.0</td>\n",
       "      <td>1975</td>\n",
       "    </tr>\n",
       "    <tr>\n",
       "      <td>4</td>\n",
       "      <td>317</td>\n",
       "      <td>scandens</td>\n",
       "      <td>12.9</td>\n",
       "      <td>7.9</td>\n",
       "      <td>1975</td>\n",
       "    </tr>\n",
       "  </tbody>\n",
       "</table>\n",
       "</div>"
      ],
      "text/plain": [
       "   band   species  beak length (mm)  beak depth (mm)  year\n",
       "0   302  scandens              13.9              8.4  1975\n",
       "1   304  scandens              14.0              8.8  1975\n",
       "2   306  scandens              12.9              8.4  1975\n",
       "3   310  scandens              13.5              8.0  1975\n",
       "4   317  scandens              12.9              7.9  1975"
      ]
     },
     "execution_count": 14,
     "metadata": {},
     "output_type": "execute_result"
    }
   ],
   "source": [
    "beaks.head()"
   ]
  },
  {
   "cell_type": "code",
   "execution_count": 15,
   "metadata": {},
   "outputs": [
    {
     "data": {
      "text/html": [
       "<div>\n",
       "<style scoped>\n",
       "    .dataframe tbody tr th:only-of-type {\n",
       "        vertical-align: middle;\n",
       "    }\n",
       "\n",
       "    .dataframe tbody tr th {\n",
       "        vertical-align: top;\n",
       "    }\n",
       "\n",
       "    .dataframe thead th {\n",
       "        text-align: right;\n",
       "    }\n",
       "</style>\n",
       "<table border=\"1\" class=\"dataframe\">\n",
       "  <thead>\n",
       "    <tr style=\"text-align: right;\">\n",
       "      <th></th>\n",
       "      <th>band</th>\n",
       "      <th>species</th>\n",
       "      <th>beak length (mm)</th>\n",
       "      <th>beak depth (mm)</th>\n",
       "      <th>year</th>\n",
       "    </tr>\n",
       "  </thead>\n",
       "  <tbody>\n",
       "  </tbody>\n",
       "</table>\n",
       "</div>"
      ],
      "text/plain": [
       "Empty DataFrame\n",
       "Columns: [band, species, beak length (mm), beak depth (mm), year]\n",
       "Index: []"
      ]
     },
     "execution_count": 15,
     "metadata": {},
     "output_type": "execute_result"
    }
   ],
   "source": [
    "beaks[beaks.duplicated(subset=['band', 'species', 'beak length (mm)', 'beak depth (mm)', 'year'], keep=False)]"
   ]
  },
  {
   "cell_type": "code",
   "execution_count": 16,
   "metadata": {},
   "outputs": [
    {
     "data": {
      "text/html": [
       "<div>\n",
       "<style scoped>\n",
       "    .dataframe tbody tr th:only-of-type {\n",
       "        vertical-align: middle;\n",
       "    }\n",
       "\n",
       "    .dataframe tbody tr th {\n",
       "        vertical-align: top;\n",
       "    }\n",
       "\n",
       "    .dataframe thead th {\n",
       "        text-align: right;\n",
       "    }\n",
       "</style>\n",
       "<table border=\"1\" class=\"dataframe\">\n",
       "  <thead>\n",
       "    <tr style=\"text-align: right;\">\n",
       "      <th></th>\n",
       "      <th>band</th>\n",
       "      <th>species</th>\n",
       "      <th>beak length (mm)</th>\n",
       "      <th>beak depth (mm)</th>\n",
       "      <th>year</th>\n",
       "    </tr>\n",
       "  </thead>\n",
       "  <tbody>\n",
       "  </tbody>\n",
       "</table>\n",
       "</div>"
      ],
      "text/plain": [
       "Empty DataFrame\n",
       "Columns: [band, species, beak length (mm), beak depth (mm), year]\n",
       "Index: []"
      ]
     },
     "execution_count": 16,
     "metadata": {},
     "output_type": "execute_result"
    }
   ],
   "source": [
    "beaks[beaks.duplicated(subset='band', keep=False)]"
   ]
  },
  {
   "cell_type": "markdown",
   "metadata": {},
   "source": [
    "<p> There are no duplicate rows nor duplicate bird's band, so the data is unpaired. </p>"
   ]
  },
  {
   "cell_type": "markdown",
   "metadata": {},
   "source": [
    "# Data Analysis of Beak Depth"
   ]
  },
  {
   "cell_type": "markdown",
   "metadata": {},
   "source": [
    "## Exploratory Data Analysis"
   ]
  },
  {
   "cell_type": "code",
   "execution_count": 17,
   "metadata": {},
   "outputs": [],
   "source": [
    "bd_1975 = np.array(beaks[beaks['year']==1975]['beak depth (mm)'])\n",
    "bl_1975 = np.array(beaks[beaks['year']==1975]['beak length (mm)'])\n",
    "bd_2012 = np.array(beaks[beaks['year']==2012]['beak depth (mm)'])\n",
    "bl_2012 = np.array(beaks[beaks['year']==2012]['beak length (mm)'])"
   ]
  },
  {
   "cell_type": "code",
   "execution_count": 18,
   "metadata": {
    "scrolled": false
   },
   "outputs": [
    {
     "data": {
      "text/plain": [
       "<matplotlib.axes._subplots.AxesSubplot at 0x2ba5ff99148>"
      ]
     },
     "execution_count": 18,
     "metadata": {},
     "output_type": "execute_result"
    },
    {
     "data": {
      "image/png": "[encoded data removed]",
      "text/plain": [
       "<Figure size 432x288 with 1 Axes>"
      ]
     },
     "metadata": {
      "needs_background": "light"
     },
     "output_type": "display_data"
    }
   ],
   "source": [
    "sns.boxplot(x='year', y='beak depth (mm)', data=beaks)"
   ]
  },
  {
   "cell_type": "code",
   "execution_count": 19,
   "metadata": {},
   "outputs": [],
   "source": [
    "def ecdf(data) :\n",
    "    n = len(data)\n",
    "    x = np.sort(data)\n",
    "    y = np.arange(1, len(data)+1) / len(data)\n",
    "    return(x, y)"
   ]
  },
  {
   "cell_type": "code",
   "execution_count": 20,
   "metadata": {
    "scrolled": true
   },
   "outputs": [
    {
     "data": {
      "image/png": "[encoded data removed]",
      "text/plain": [
       "<Figure size 432x288 with 1 Axes>"
      ]
     },
     "metadata": {
      "needs_background": "light"
     },
     "output_type": "display_data"
    }
   ],
   "source": [
    "x_1975, y_1975 = ecdf(bd_1975)\n",
    "x_2012, y_2012 = ecdf(bd_2012)\n",
    "plt.plot(x_1975, y_1975, marker = '.', linestyle='none', label = '1975')\n",
    "plt.plot(x_2012, y_2012, marker = '.', linestyle='none', label = '2012')\n",
    "plt.xlabel('Beak Depth (mm)')\n",
    "plt.ylabel('ECDF')\n",
    "plt.legend()\n",
    "plt.show()"
   ]
  },
  {
   "cell_type": "code",
   "execution_count": 21,
   "metadata": {},
   "outputs": [
    {
     "name": "stdout",
     "output_type": "stream",
     "text": [
      "mean of beak depth (mm) in 1975 : 8.959999999999999\n",
      "mean of beak depth (mm) in 2012 : 9.186220472440946\n"
     ]
    }
   ],
   "source": [
    "print('mean of beak depth (mm) in 1975 :', bd_1975.mean())\n",
    "print('mean of beak depth (mm) in 2012 :', bd_2012.mean())"
   ]
  },
  {
   "cell_type": "code",
   "execution_count": 22,
   "metadata": {},
   "outputs": [
    {
     "name": "stdout",
     "output_type": "stream",
     "text": [
      "difference of mean : 0.22622047244094645 mm\n"
     ]
    }
   ],
   "source": [
    "print('difference of mean :', bd_2012.mean()-bd_1975.mean(), 'mm')"
   ]
  },
  {
   "cell_type": "markdown",
   "metadata": {},
   "source": [
    "<p> It seems like Scandens birds in the year 2012 have a deeper beak than Scandens birds in the year 1975.</p>\n",
    "<p> To prove it, a parametric hypothesis test will be carried out, but before that, a homogeneity test and a normality test will be conducted.</p>"
   ]
  },
  {
   "cell_type": "markdown",
   "metadata": {},
   "source": [
    "## Normality Test "
   ]
  },
  {
   "cell_type": "code",
   "execution_count": 23,
   "metadata": {},
   "outputs": [
    {
     "name": "stdout",
     "output_type": "stream",
     "text": [
      "Normality Test of Beak Depth 1975 :\n",
      "statistic = 3.156169329820942\n",
      "p value = 0.20636998759007116\n"
     ]
    }
   ],
   "source": [
    "stat, p = stats.normaltest(bd_1975)\n",
    "print('Normality Test of Beak Depth 1975 :')\n",
    "print('statistic =', stat)\n",
    "print('p value =', p)"
   ]
  },
  {
   "cell_type": "markdown",
   "metadata": {},
   "source": [
    "<p> The P-value is greater than 0.05, <strong>the data from 1975 is normal.</strong></p>\n",
    "<p> We can visualize and compare it with Normal Distribution CDF.</p>"
   ]
  },
  {
   "cell_type": "code",
   "execution_count": 24,
   "metadata": {},
   "outputs": [
    {
     "data": {
      "image/png": "[encoded data removed]",
      "text/plain": [
       "<Figure size 432x288 with 1 Axes>"
      ]
     },
     "metadata": {
      "needs_background": "light"
     },
     "output_type": "display_data"
    }
   ],
   "source": [
    "normal_bdepth_1975 = np.random.normal(np.mean(bd_1975), np.std(bd_1975), 1000000)\n",
    "x_normal, y_normal = ecdf(normal_bdepth_1975)\n",
    "x_1975, y_1975 = ecdf(bd_1975)\n",
    "plt.plot(x_normal, y_normal, label = 'Normal Distribution', color='r')\n",
    "plt.plot(x_1975, y_1975, marker = '.', linestyle='none', label = 'Sample Data 1975', color='b')\n",
    "plt.xlabel('Beak Depth (mm)')\n",
    "plt.ylabel('ECDF')\n",
    "plt.legend(loc='upper left')\n",
    "plt.show()"
   ]
  },
  {
   "cell_type": "code",
   "execution_count": 25,
   "metadata": {},
   "outputs": [
    {
     "name": "stdout",
     "output_type": "stream",
     "text": [
      "Normality Test of Beak Depth 2012 :\n",
      "statistic = 0.24568094100147858\n",
      "p value = 0.8844047399528273\n"
     ]
    }
   ],
   "source": [
    "stat, p = stats.normaltest(bd_2012)\n",
    "print('Normality Test of Beak Depth 2012 :')\n",
    "print('statistic =', stat)\n",
    "print('p value =', p)"
   ]
  },
  {
   "cell_type": "markdown",
   "metadata": {},
   "source": [
    "<p> The P-value is greater than 0.05, <strong>the data from 2012 is normal.</strong></p>\n",
    "<p> We can visualize and compare it with Normal Distribution CDF.</p>"
   ]
  },
  {
   "cell_type": "code",
   "execution_count": 26,
   "metadata": {
    "scrolled": true
   },
   "outputs": [
    {
     "data": {
      "image/png": "[encoded data removed]",
      "text/plain": [
       "<Figure size 432x288 with 1 Axes>"
      ]
     },
     "metadata": {
      "needs_background": "light"
     },
     "output_type": "display_data"
    }
   ],
   "source": [
    "normal_bdepth_2012 = np.random.normal(np.mean(bd_2012), np.std(bd_2012), 1000000)\n",
    "x_normal, y_normal = ecdf(normal_bdepth_2012)\n",
    "x_2012, y_2012 = ecdf(bd_2012)\n",
    "plt.plot(x_normal, y_normal, label = 'Normal Distribution', color='r')\n",
    "plt.plot(x_2012, y_2012, marker = '.', linestyle='none', label = 'Sample Data 2012', color='b')\n",
    "plt.xlabel('Beak Depth (mm)')\n",
    "plt.ylabel('ECDF')\n",
    "plt.legend(loc='upper left')\n",
    "plt.show()"
   ]
  },
  {
   "cell_type": "markdown",
   "metadata": {},
   "source": [
    "## Homogeneity Test"
   ]
  },
  {
   "cell_type": "code",
   "execution_count": 27,
   "metadata": {},
   "outputs": [
    {
     "name": "stdout",
     "output_type": "stream",
     "text": [
      "Homogeneity Test of Beak Depth :\n",
      "statistic = 2.4959603476658674\n",
      "p value = 0.11562957693990795\n"
     ]
    }
   ],
   "source": [
    "stat, p = stats.levene(bd_1975, bd_2012, center='mean')\n",
    "print('Homogeneity Test of Beak Depth :')\n",
    "print('statistic =', stat)\n",
    "print('p value =', p)"
   ]
  },
  {
   "cell_type": "markdown",
   "metadata": {},
   "source": [
    "<p> Because the sample size of the 2 data is different, the homogeneity test was carried out.</p>\n",
    "<p> The test result P-value is greater than 0.05, <strong>the variance is equal across groups.</strong></p>"
   ]
  },
  {
   "cell_type": "markdown",
   "metadata": {},
   "source": [
    "## Independent T-Test"
   ]
  },
  {
   "cell_type": "markdown",
   "metadata": {},
   "source": [
    "<p> We find that both data from 1975 and 2012 are normal, and that the variance is equal across groups. Therefore an Independent T-Test will be carried out to determines whether there is a statistically significant difference between the means in two unrelated groups.</p>\n",
    "<p>Perform a hypothesis test on the difference in the two population means using a level of significance α = 0.05 (i.e., 5%).</p>\n",
    "<p>m1 = mean of population from 2012</p>\n",
    "<p>m2 = mean of population from 1975</p>\n",
    "<p>H0 : m1 <= m2</p>\n",
    "<p>H1 : m1 > m2</p>"
   ]
  },
  {
   "cell_type": "code",
   "execution_count": 28,
   "metadata": {},
   "outputs": [
    {
     "name": "stdout",
     "output_type": "stream",
     "text": [
      "Independent T-Test of Beak Depth :\n",
      "statistic = 2.5817030196120143\n",
      "p value = 0.00525264125127548\n"
     ]
    }
   ],
   "source": [
    "stat, p = stats.ttest_ind(bd_2012, bd_1975)\n",
    "print('Independent T-Test of Beak Depth :')\n",
    "print('statistic =', stat)\n",
    "print('p value =', p/2)"
   ]
  },
  {
   "cell_type": "markdown",
   "metadata": {},
   "source": [
    "<p>The P-value is lesser than 0.05.</p>\n",
    "<p>The conclusion of the hypothesis test is : <strong>Reject the Null Hypothesis.</strong> There is sufficient evidence to say that <strong>the mean of Scandens bird's beak depth from 2012 is deeper than the mean of Scandens bird's beak depth from 1975</strong> with the level of significance 5%.</p>"
   ]
  },
  {
   "cell_type": "markdown",
   "metadata": {},
   "source": [
    "## Confidence Interval"
   ]
  },
  {
   "cell_type": "code",
   "execution_count": 29,
   "metadata": {},
   "outputs": [],
   "source": [
    "def ci_ttest(x1, x2, alpha=0.05) :\n",
    "    \"\"\"\n",
    "    Calculate confidence interval of difference in mean assuming equal variance (student's t-interval)\n",
    "    \"\"\"\n",
    "    n1, n2 = len(x1), len(x2)                                    # sample sizes\n",
    "    s1, s2 = np.var(x1, ddof=1), np.var(x2, ddof=1)              # sample variances\n",
    "    s = np.sqrt(((n1 - 1) * s1 + (n2 - 1) * s2) / (n1 + n2 - 2)) # pooled standard deviation\n",
    "    df = n1 + n2 - 2                                             # degrees of freedom\n",
    "    t = stats.t.ppf(1 - alpha/2, df)                             # t-critical value for 95% CI\n",
    "\n",
    "    lower = (np.mean(x1) - np.mean(x2)) - t * np.sqrt(1 / len(x1) + 1 / len(x2)) * s\n",
    "    upper = (np.mean(x1) - np.mean(x2)) + t * np.sqrt(1 / len(x1) + 1 / len(x2)) * s\n",
    "    return(lower, upper)"
   ]
  },
  {
   "cell_type": "code",
   "execution_count": 30,
   "metadata": {},
   "outputs": [
    {
     "name": "stdout",
     "output_type": "stream",
     "text": [
      "The 95% confidence interval of difference in means (in millimeters) :\n",
      "( 0.053493539685989105 , 0.39894740519590377 )\n"
     ]
    }
   ],
   "source": [
    "lower, upper = ci_ttest(bd_2012, bd_1975)\n",
    "print('The 95% confidence interval of difference in means (in millimeters) :')\n",
    "print('(', lower, ',', upper, ')')"
   ]
  },
  {
   "cell_type": "markdown",
   "metadata": {},
   "source": [
    "So we believe that the range <strong>0.0535 to 0.3989</strong> (in millimeters) contains <strong>the difference between the average Scandens bird's beak depth of the year 2012 and 1975</strong> at 𝛼 = 5%.\n",
    "\n",
    "We are 95% confident that the Scandens bird's <strong>beak depth mean in 2012</strong> got about <strong>0.0535 mm up to 0.3989 mm deeper than in 1975.</strong>"
   ]
  },
  {
   "cell_type": "markdown",
   "metadata": {},
   "source": [
    "# Data Analysis of Beak Length"
   ]
  },
  {
   "cell_type": "markdown",
   "metadata": {},
   "source": [
    "## Exploratory Data Analysis"
   ]
  },
  {
   "cell_type": "code",
   "execution_count": 31,
   "metadata": {
    "scrolled": true
   },
   "outputs": [
    {
     "data": {
      "text/plain": [
       "<matplotlib.axes._subplots.AxesSubplot at 0x2ba61478f88>"
      ]
     },
     "execution_count": 31,
     "metadata": {},
     "output_type": "execute_result"
    },
    {
     "data": {
      "image/png": "[encoded data removed]",
      "text/plain": [
       "<Figure size 432x288 with 1 Axes>"
      ]
     },
     "metadata": {
      "needs_background": "light"
     },
     "output_type": "display_data"
    }
   ],
   "source": [
    "sns.boxplot(x='year', y='beak length (mm)', data=beaks)"
   ]
  },
  {
   "cell_type": "code",
   "execution_count": 32,
   "metadata": {},
   "outputs": [
    {
     "data": {
      "image/png": "[encoded data removed]",
      "text/plain": [
       "<Figure size 432x288 with 1 Axes>"
      ]
     },
     "metadata": {
      "needs_background": "light"
     },
     "output_type": "display_data"
    }
   ],
   "source": [
    "x_1975, y_1975 = ecdf(bl_1975)\n",
    "x_2012, y_2012 = ecdf(bl_2012)\n",
    "plt.plot(x_1975, y_1975, marker = '.', linestyle='none', label = '1975')\n",
    "plt.plot(x_2012, y_2012, marker = '.', linestyle='none', label = '2012')\n",
    "plt.xlabel('Beak Length (mm)')\n",
    "plt.ylabel('ECDF')\n",
    "plt.legend()\n",
    "plt.show()"
   ]
  },
  {
   "cell_type": "code",
   "execution_count": 33,
   "metadata": {},
   "outputs": [
    {
     "name": "stdout",
     "output_type": "stream",
     "text": [
      "mean of beak length (mm) in 1975 : 14.120919540229885\n",
      "mean of beak length (mm) in 2012 : 13.421023622047242\n"
     ]
    }
   ],
   "source": [
    "print('mean of beak length (mm) in 1975 :', bl_1975.mean())\n",
    "print('mean of beak length (mm) in 2012 :', bl_2012.mean())"
   ]
  },
  {
   "cell_type": "code",
   "execution_count": 34,
   "metadata": {},
   "outputs": [
    {
     "name": "stdout",
     "output_type": "stream",
     "text": [
      "difference of mean : -0.6998959181826425 mm\n"
     ]
    }
   ],
   "source": [
    "print('difference of mean :', bl_2012.mean()-bl_1975.mean(), 'mm')"
   ]
  },
  {
   "cell_type": "markdown",
   "metadata": {},
   "source": [
    "<p> It seems like Scandens birds in the year 2012 have a shorter beak than Scandens birds in the year 1975.</p>\n",
    "<p> To prove it, a parametric hypothesis test will be carried out, but before that, a homogeneity test and a normality test will be conducted.</p>"
   ]
  },
  {
   "cell_type": "markdown",
   "metadata": {},
   "source": [
    "## Normality Test"
   ]
  },
  {
   "cell_type": "code",
   "execution_count": 35,
   "metadata": {},
   "outputs": [
    {
     "name": "stdout",
     "output_type": "stream",
     "text": [
      "Normality Test of Beak Length 1975 :\n",
      "statistic = 2.8230555400068\n",
      "p value = 0.2437705731489806\n"
     ]
    }
   ],
   "source": [
    "stat, p = stats.normaltest(bl_1975)\n",
    "print('Normality Test of Beak Length 1975 :')\n",
    "print('statistic =', stat)\n",
    "print('p value =', p)"
   ]
  },
  {
   "cell_type": "markdown",
   "metadata": {},
   "source": [
    "<p> The P-value is greater than 0.05, <strong>the data from 1975 is normal.</strong></p>\n",
    "<p> We can visualize and compare it with Normal Distribution CDF.</p>"
   ]
  },
  {
   "cell_type": "code",
   "execution_count": 36,
   "metadata": {},
   "outputs": [
    {
     "data": {
      "image/png": "[encoded data removed]",
      "text/plain": [
       "<Figure size 432x288 with 1 Axes>"
      ]
     },
     "metadata": {
      "needs_background": "light"
     },
     "output_type": "display_data"
    }
   ],
   "source": [
    "normal_blength_1975 = np.random.normal(np.mean(bl_1975), np.std(bl_1975), 1000000)\n",
    "x_normal, y_normal = ecdf(normal_blength_1975)\n",
    "x_1975, y_1975 = ecdf(bl_1975)\n",
    "plt.plot(x_normal, y_normal, label = 'Normal Distribution', color='r')\n",
    "plt.plot(x_1975, y_1975, marker = '.', linestyle='none', label = 'Sample Data 1975', color='b')\n",
    "plt.xlabel('Beak Length (mm)')\n",
    "plt.ylabel('ECDF')\n",
    "plt.legend(loc='upper left')\n",
    "plt.show()"
   ]
  },
  {
   "cell_type": "code",
   "execution_count": 37,
   "metadata": {},
   "outputs": [
    {
     "name": "stdout",
     "output_type": "stream",
     "text": [
      "Normality Test of Beak Length 2012 :\n",
      "statistic = 0.061301618059789585\n",
      "p value = 0.969814164304941\n"
     ]
    }
   ],
   "source": [
    "stat, p = stats.normaltest(bl_2012)\n",
    "print('Normality Test of Beak Length 2012 :')\n",
    "print('statistic =', stat)\n",
    "print('p value =', p)"
   ]
  },
  {
   "cell_type": "markdown",
   "metadata": {},
   "source": [
    "<p> The P-value is greater than 0.05, <strong>the data from 2012 is normal.</strong></p>\n",
    "<p> We can visualize and compare it with Normal Distribution CDF.</p>"
   ]
  },
  {
   "cell_type": "code",
   "execution_count": 38,
   "metadata": {},
   "outputs": [
    {
     "data": {
      "image/png": "[encoded data removed]",
      "text/plain": [
       "<Figure size 432x288 with 1 Axes>"
      ]
     },
     "metadata": {
      "needs_background": "light"
     },
     "output_type": "display_data"
    }
   ],
   "source": [
    "normal_blength_2012 = np.random.normal(np.mean(bl_2012), np.std(bl_2012), 1000000)\n",
    "x_normal, y_normal = ecdf(normal_blength_2012)\n",
    "x_2012, y_2012 = ecdf(bl_2012)\n",
    "plt.plot(x_normal, y_normal, label = 'Normal Distribution', color='r')\n",
    "plt.plot(x_2012, y_2012, marker = '.', linestyle='none', label = 'Sample Data 2012', color='b')\n",
    "plt.xlabel('Beak Length (mm)')\n",
    "plt.ylabel('ECDF')\n",
    "plt.legend(loc='upper left')\n",
    "plt.show()"
   ]
  },
  {
   "cell_type": "markdown",
   "metadata": {},
   "source": [
    "## Homogeneity Test"
   ]
  },
  {
   "cell_type": "code",
   "execution_count": 39,
   "metadata": {},
   "outputs": [
    {
     "name": "stdout",
     "output_type": "stream",
     "text": [
      "Homogeneity Test of Beak Length :\n",
      "statistic = 0.3471919775382065\n",
      "p value = 0.5563343683004304\n"
     ]
    }
   ],
   "source": [
    "stat, p = stats.levene(bl_1975, bl_2012, center='mean')\n",
    "print('Homogeneity Test of Beak Length :')\n",
    "print('statistic =', stat)\n",
    "print('p value =', p)"
   ]
  },
  {
   "cell_type": "markdown",
   "metadata": {},
   "source": [
    "<p> Because the sample size of the 2 data is different, the homogeneity test was carried out.</p>\n",
    "<p> The test result P-value is greater than 0.05, <strong>the variance is equal across groups.</strong></p>"
   ]
  },
  {
   "cell_type": "markdown",
   "metadata": {},
   "source": [
    "## Independent T-Test"
   ]
  },
  {
   "cell_type": "markdown",
   "metadata": {},
   "source": [
    "<p> We find that both data from 1975 and 2012 are normal, and that the variance is equal across groups. Therefore an Independent T-Test will be carried out to determines whether there is a statistically significant difference between the means in two unrelated groups.</p>\n",
    "<p>Perform a hypothesis test on the difference in the two population means using a level of significance α = 0.05 (i.e., 5%).</p>\n",
    "<p>m1 = mean of population from 2012</p>\n",
    "<p>m2 = mean of population from 1975</p>\n",
    "<p>H0 : m1 >= m2</p>\n",
    "<p>H1 : m1 < m2</p>"
   ]
  },
  {
   "cell_type": "code",
   "execution_count": 40,
   "metadata": {},
   "outputs": [
    {
     "name": "stdout",
     "output_type": "stream",
     "text": [
      "Independent T-Test of Beak Length :\n",
      "statistic = -6.846559942453622\n",
      "p value = 4.013678636449343e-11\n"
     ]
    }
   ],
   "source": [
    "stat, p = stats.ttest_ind(bl_2012, bl_1975)\n",
    "print('Independent T-Test of Beak Length :')\n",
    "print('statistic =', stat)\n",
    "print('p value =', p/2)"
   ]
  },
  {
   "cell_type": "markdown",
   "metadata": {},
   "source": [
    "<p>The P-value is lesser than 0.05.</p>\n",
    "<p>The conclusion of the hypothesis test is : <strong>Reject the Null Hypothesis.</strong> There is sufficient evidence to say that <strong>the mean of Scandens bird's beak length from 2012 is shorter than the mean of Scandens bird's beak length from 1975</strong> with the level of significance 5%.</p>"
   ]
  },
  {
   "cell_type": "markdown",
   "metadata": {},
   "source": [
    "## Confidence Interval"
   ]
  },
  {
   "cell_type": "code",
   "execution_count": 41,
   "metadata": {},
   "outputs": [
    {
     "name": "stdout",
     "output_type": "stream",
     "text": [
      "The 95% confidence interval of difference in means (in millimeters) :\n",
      "( -0.9014053992255738 , -0.4983864371397112 )\n"
     ]
    }
   ],
   "source": [
    "lower, upper = ci_ttest(bl_2012, bl_1975)\n",
    "print('The 95% confidence interval of difference in means (in millimeters) :')\n",
    "print('(', lower, ',', upper, ')')"
   ]
  },
  {
   "cell_type": "markdown",
   "metadata": {},
   "source": [
    "So we believe that the range <strong>0.4984 to 0.9014</strong> (in millimeters) contains <strong>the difference between the average Scandens bird's beak length of the year 2012 and 1975</strong> at 𝛼 = 5%.\n",
    "\n",
    "We are 95% confident that the Scandens bird's <strong>beak length mean in 2012</strong> got about <strong>0.4984 mm up to 0.9014 mm shorter (minus sign) than in 1975.</strong>"
   ]
  },
  {
   "cell_type": "markdown",
   "metadata": {},
   "source": [
    "# Data Analysis of Beak Depth to Length Ratio"
   ]
  },
  {
   "cell_type": "markdown",
   "metadata": {},
   "source": [
    "## Exploratory Data Analysis"
   ]
  },
  {
   "cell_type": "code",
   "execution_count": 42,
   "metadata": {},
   "outputs": [],
   "source": [
    "m_1975, b_1975 = np.polyfit(bl_1975, bd_1975, 1)\n",
    "m_2012, b_2012 = np.polyfit(bl_2012, bd_2012, 1)"
   ]
  },
  {
   "cell_type": "code",
   "execution_count": 43,
   "metadata": {},
   "outputs": [
    {
     "name": "stdout",
     "output_type": "stream",
     "text": [
      "1975: slope = 0.4652051691605937 intercept = 2.3908752365842263\n",
      "2012: slope = 0.462630358835313 intercept = 2.9772474982360198\n"
     ]
    }
   ],
   "source": [
    "print('1975: slope =', m_1975, 'intercept =', b_1975)\n",
    "print('2012: slope =', m_2012, 'intercept =', b_2012)"
   ]
  },
  {
   "cell_type": "code",
   "execution_count": 44,
   "metadata": {},
   "outputs": [
    {
     "data": {
      "image/png": "[encoded data removed]",
      "text/plain": [
       "<Figure size 432x288 with 1 Axes>"
      ]
     },
     "metadata": {
      "needs_background": "light"
     },
     "output_type": "display_data"
    }
   ],
   "source": [
    "xpoint = np.array([11, 17])\n",
    "plt.plot(xpoint, xpoint*m_1975+b_1975)\n",
    "plt.plot(xpoint, xpoint*m_2012+b_2012)\n",
    "plt.scatter(bl_1975, bd_1975, color = 'b', label = '1975', alpha=0.5)\n",
    "plt.scatter(bl_2012, bd_2012, color = 'r', label = '2012', alpha=0.5)\n",
    "plt.xlabel('Beak Length (mm)')\n",
    "plt.ylabel('Beak Depth (mm)')\n",
    "plt.legend(('1975', '2012'))\n",
    "plt.show()"
   ]
  },
  {
   "cell_type": "markdown",
   "metadata": {},
   "source": [
    "<p> In looking at the plot, we see that beaks got deeper (the red points are higher up in the y-direction) and a bit shorter, since the red dots are to the left of the blue dots. So, it does not look like the beaks kept the same shape; they became shorter and deeper.</p>\n",
    "<p> Perform a linear regression for both the 1975 and 2012 data, it looks like they have the same slope, but different intercepts.</p>"
   ]
  },
  {
   "cell_type": "code",
   "execution_count": 45,
   "metadata": {},
   "outputs": [],
   "source": [
    "beaks['bdepth/blength'] = np.array(beaks['beak depth (mm)']) / np.array(beaks['beak length (mm)'])"
   ]
  },
  {
   "cell_type": "code",
   "execution_count": 46,
   "metadata": {},
   "outputs": [
    {
     "data": {
      "text/html": [
       "<div>\n",
       "<style scoped>\n",
       "    .dataframe tbody tr th:only-of-type {\n",
       "        vertical-align: middle;\n",
       "    }\n",
       "\n",
       "    .dataframe tbody tr th {\n",
       "        vertical-align: top;\n",
       "    }\n",
       "\n",
       "    .dataframe thead th {\n",
       "        text-align: right;\n",
       "    }\n",
       "</style>\n",
       "<table border=\"1\" class=\"dataframe\">\n",
       "  <thead>\n",
       "    <tr style=\"text-align: right;\">\n",
       "      <th></th>\n",
       "      <th>band</th>\n",
       "      <th>species</th>\n",
       "      <th>beak length (mm)</th>\n",
       "      <th>beak depth (mm)</th>\n",
       "      <th>year</th>\n",
       "      <th>bdepth/blength</th>\n",
       "    </tr>\n",
       "  </thead>\n",
       "  <tbody>\n",
       "    <tr>\n",
       "      <td>0</td>\n",
       "      <td>302</td>\n",
       "      <td>scandens</td>\n",
       "      <td>13.9</td>\n",
       "      <td>8.4</td>\n",
       "      <td>1975</td>\n",
       "      <td>0.604317</td>\n",
       "    </tr>\n",
       "    <tr>\n",
       "      <td>1</td>\n",
       "      <td>304</td>\n",
       "      <td>scandens</td>\n",
       "      <td>14.0</td>\n",
       "      <td>8.8</td>\n",
       "      <td>1975</td>\n",
       "      <td>0.628571</td>\n",
       "    </tr>\n",
       "    <tr>\n",
       "      <td>2</td>\n",
       "      <td>306</td>\n",
       "      <td>scandens</td>\n",
       "      <td>12.9</td>\n",
       "      <td>8.4</td>\n",
       "      <td>1975</td>\n",
       "      <td>0.651163</td>\n",
       "    </tr>\n",
       "    <tr>\n",
       "      <td>3</td>\n",
       "      <td>310</td>\n",
       "      <td>scandens</td>\n",
       "      <td>13.5</td>\n",
       "      <td>8.0</td>\n",
       "      <td>1975</td>\n",
       "      <td>0.592593</td>\n",
       "    </tr>\n",
       "    <tr>\n",
       "      <td>4</td>\n",
       "      <td>317</td>\n",
       "      <td>scandens</td>\n",
       "      <td>12.9</td>\n",
       "      <td>7.9</td>\n",
       "      <td>1975</td>\n",
       "      <td>0.612403</td>\n",
       "    </tr>\n",
       "  </tbody>\n",
       "</table>\n",
       "</div>"
      ],
      "text/plain": [
       "   band   species  beak length (mm)  beak depth (mm)  year  bdepth/blength\n",
       "0   302  scandens              13.9              8.4  1975        0.604317\n",
       "1   304  scandens              14.0              8.8  1975        0.628571\n",
       "2   306  scandens              12.9              8.4  1975        0.651163\n",
       "3   310  scandens              13.5              8.0  1975        0.592593\n",
       "4   317  scandens              12.9              7.9  1975        0.612403"
      ]
     },
     "execution_count": 46,
     "metadata": {},
     "output_type": "execute_result"
    }
   ],
   "source": [
    "beaks.head()"
   ]
  },
  {
   "cell_type": "code",
   "execution_count": 47,
   "metadata": {},
   "outputs": [],
   "source": [
    "bratio_1975 = beaks[beaks['year']==1975]['bdepth/blength']\n",
    "bratio_2012 = beaks[beaks['year']==2012]['bdepth/blength']"
   ]
  },
  {
   "cell_type": "code",
   "execution_count": 48,
   "metadata": {},
   "outputs": [
    {
     "data": {
      "text/plain": [
       "<matplotlib.axes._subplots.AxesSubplot at 0x2ba61745688>"
      ]
     },
     "execution_count": 48,
     "metadata": {},
     "output_type": "execute_result"
    },
    {
     "data": {
      "image/png": "[encoded data removed]",
      "text/plain": [
       "<Figure size 432x288 with 1 Axes>"
      ]
     },
     "metadata": {
      "needs_background": "light"
     },
     "output_type": "display_data"
    }
   ],
   "source": [
    "sns.boxplot(x='year', y='bdepth/blength', data=beaks)"
   ]
  },
  {
   "cell_type": "code",
   "execution_count": 49,
   "metadata": {},
   "outputs": [
    {
     "data": {
      "image/png": "[encoded data removed]",
      "text/plain": [
       "<Figure size 432x288 with 1 Axes>"
      ]
     },
     "metadata": {
      "needs_background": "light"
     },
     "output_type": "display_data"
    }
   ],
   "source": [
    "x_1975, y_1975 = ecdf(bratio_1975)\n",
    "x_2012, y_2012 = ecdf(bratio_2012)\n",
    "plt.plot(x_1975, y_1975, marker = '.', linestyle='none', label = '1975')\n",
    "plt.plot(x_2012, y_2012, marker = '.', linestyle='none', label = '2012')\n",
    "plt.xlabel('Beak Depth / Beak Length Ratio')\n",
    "plt.ylabel('ECDF')\n",
    "plt.legend()\n",
    "plt.show()"
   ]
  },
  {
   "cell_type": "code",
   "execution_count": 50,
   "metadata": {},
   "outputs": [
    {
     "name": "stdout",
     "output_type": "stream",
     "text": [
      "mean of beak depth/length ratio in 1975 : 0.6349990847376105\n",
      "mean of beak depth/length ratio in 2012 : 0.6850757317280309\n"
     ]
    }
   ],
   "source": [
    "print('mean of beak depth/length ratio in 1975 :', bratio_1975.mean())\n",
    "print('mean of beak depth/length ratio in 2012 :', bratio_2012.mean())"
   ]
  },
  {
   "cell_type": "code",
   "execution_count": 51,
   "metadata": {},
   "outputs": [
    {
     "name": "stdout",
     "output_type": "stream",
     "text": [
      "difference of mean : 0.05007664699042047 mm\n"
     ]
    }
   ],
   "source": [
    "print('difference of mean :', bratio_2012.mean()-bratio_1975.mean(), 'mm')"
   ]
  },
  {
   "cell_type": "markdown",
   "metadata": {},
   "source": [
    "<p> It seems like Scandens birds in the year 2012 have different beak shapes than Scandens birds in the year 1975.</p>\n",
    "<p> To prove it, a parametric hypothesis test will be carried out, but before that, a homogeneity test and a normality test will be conducted.</p>"
   ]
  },
  {
   "cell_type": "markdown",
   "metadata": {},
   "source": [
    "## Normality Test"
   ]
  },
  {
   "cell_type": "code",
   "execution_count": 52,
   "metadata": {},
   "outputs": [
    {
     "name": "stdout",
     "output_type": "stream",
     "text": [
      "Normality Test of Beak Depth/Length Ratio 1975 :\n",
      "statistic = 8.029083744017512\n",
      "p value = 0.018051222427002817\n"
     ]
    }
   ],
   "source": [
    "stat, p = stats.normaltest(bratio_1975)\n",
    "print('Normality Test of Beak Depth/Length Ratio 1975 :')\n",
    "print('statistic =', stat)\n",
    "print('p value =', p)"
   ]
  },
  {
   "cell_type": "markdown",
   "metadata": {},
   "source": [
    "<p> The P-value is lesser than 0.05, the data from 1975 significantly deviate from a normal distribution.</p>\n",
    "<p> But, depending on the method and sample size, we can still use Parametric Hypothesis Test even when the distribution is far from normal because of the Central Limit Theorem. The sample size of data 1975 is 87, which is more than the minimum sample size, 30.</p>\n",
    "<p> We can visualize and compare it with Normal Distribution CDF.</p>"
   ]
  },
  {
   "cell_type": "code",
   "execution_count": 53,
   "metadata": {
    "scrolled": true
   },
   "outputs": [
    {
     "data": {
      "image/png": "[encoded data removed]",
      "text/plain": [
       "<Figure size 432x288 with 1 Axes>"
      ]
     },
     "metadata": {
      "needs_background": "light"
     },
     "output_type": "display_data"
    }
   ],
   "source": [
    "normal_bratio_1975 = np.random.normal(np.mean(bratio_1975), np.std(bratio_1975), 1000000)\n",
    "x_normal, y_normal = ecdf(normal_bratio_1975)\n",
    "x_1975, y_1975 = ecdf(bratio_1975)\n",
    "plt.plot(x_normal, y_normal, label = 'Normal Distribution', color='r')\n",
    "plt.plot(x_1975, y_1975, marker = '.', linestyle='none', label = 'Sample Data 1975', color='b')\n",
    "plt.xlabel('Beak Depth / Beak Length Ratio')\n",
    "plt.ylabel('ECDF')\n",
    "plt.legend(loc='upper left')\n",
    "plt.show()"
   ]
  },
  {
   "cell_type": "code",
   "execution_count": 54,
   "metadata": {},
   "outputs": [
    {
     "name": "stdout",
     "output_type": "stream",
     "text": [
      "Normality Test of Beak Depth/Length Ratio 2012 :\n",
      "statistic = 0.09390161994602773\n",
      "p value = 0.9541343303295077\n"
     ]
    }
   ],
   "source": [
    "stat, p = stats.normaltest(bratio_2012)\n",
    "print('Normality Test of Beak Depth/Length Ratio 2012 :')\n",
    "print('statistic =', stat)\n",
    "print('p value =', p)"
   ]
  },
  {
   "cell_type": "markdown",
   "metadata": {},
   "source": [
    "<p> The P-value is greater than 0.05, <strong>the data from 2012 is normal.</strong></p>\n",
    "<p> We can visualize and compare it with Normal Distribution CDF.</p>"
   ]
  },
  {
   "cell_type": "code",
   "execution_count": 55,
   "metadata": {},
   "outputs": [
    {
     "data": {
      "image/png": "[encoded data removed]",
      "text/plain": [
       "<Figure size 432x288 with 1 Axes>"
      ]
     },
     "metadata": {
      "needs_background": "light"
     },
     "output_type": "display_data"
    }
   ],
   "source": [
    "normal_bratio_2012 = np.random.normal(np.mean(bratio_2012), np.std(bratio_2012), 1000000)\n",
    "x_normal, y_normal = ecdf(normal_bratio_2012)\n",
    "x_2012, y_2012 = ecdf(bratio_2012)\n",
    "plt.plot(x_normal, y_normal, label = 'Normal Distribution', color='r')\n",
    "plt.plot(x_2012, y_2012, marker = '.', linestyle='none', label = 'Sample Data 2012', color='b')\n",
    "plt.xlabel('Beak Depth / Beak Length Ratio')\n",
    "plt.ylabel('ECDF')\n",
    "plt.legend(loc='upper left')\n",
    "plt.show()"
   ]
  },
  {
   "cell_type": "markdown",
   "metadata": {},
   "source": [
    "## Homogeneity Test"
   ]
  },
  {
   "cell_type": "code",
   "execution_count": 56,
   "metadata": {},
   "outputs": [
    {
     "name": "stdout",
     "output_type": "stream",
     "text": [
      "Homogeneity Test of Beak Depth/Length Ratio :\n",
      "statistic = 6.943461123752775\n",
      "p value = 0.009033830317360174\n"
     ]
    }
   ],
   "source": [
    "stat, p = stats.levene(bratio_1975, bratio_2012)\n",
    "print('Homogeneity Test of Beak Depth/Length Ratio :')\n",
    "print('statistic =', stat)\n",
    "print('p value =', p)"
   ]
  },
  {
   "cell_type": "markdown",
   "metadata": {},
   "source": [
    "<p> Because the sample size of the 2 data is different, the homogeneity test was carried out.</p>\n",
    "<p> The test result P-value is lesser than 0.05, the variance is unequal across groups.</p>"
   ]
  },
  {
   "cell_type": "markdown",
   "metadata": {},
   "source": [
    "## Welch's T-Test"
   ]
  },
  {
   "cell_type": "markdown",
   "metadata": {},
   "source": [
    "We find that both data from 1975 and 2012 are normal but have unequal variances. Therefore a Welch's T-Test, or Unequal Variances T-Test, will be carried out to determines whether there is a statistically significant difference between the means in two unrelated groups.\n",
    "\n",
    "Perform a hypothesis test on the difference in the two population means using a level of significance α = 0.05 (i.e., 5%).\n",
    "\n",
    "m1 = mean of population from 2012\n",
    "\n",
    "m2 = mean of population from 1975\n",
    "\n",
    "H0 : m1 <= m2\n",
    "\n",
    "H1 : m1 > m2"
   ]
  },
  {
   "cell_type": "code",
   "execution_count": 57,
   "metadata": {},
   "outputs": [
    {
     "name": "stdout",
     "output_type": "stream",
     "text": [
      "Welch's T-Test of Beak Depth/Length Ratio :\n",
      "statistic = 9.490397259559566\n",
      "p value = 2.5700902021201317e-18\n"
     ]
    }
   ],
   "source": [
    "stat, p = stats.ttest_ind(bratio_2012, bratio_1975, equal_var=False)\n",
    "print(\"Welch's T-Test of Beak Depth/Length Ratio :\")\n",
    "print('statistic =', stat)\n",
    "print('p value =', p/2)"
   ]
  },
  {
   "cell_type": "markdown",
   "metadata": {},
   "source": [
    "The P-value is lesser than 0.05.\n",
    "\n",
    "The conclusion of the hypothesis test is : <strong>Reject the Null Hypothesis.</strong> There is sufficient evidence to say that <strong>the mean of Scandens bird's beak depth to length ratio from 2012 is greater than the mean of Scandens bird's beak depth to length ratio from 1975</strong> with the level of significance 5%."
   ]
  },
  {
   "cell_type": "markdown",
   "metadata": {},
   "source": [
    "## Confidence Interval"
   ]
  },
  {
   "cell_type": "code",
   "execution_count": 58,
   "metadata": {},
   "outputs": [],
   "source": [
    "def ci_welch(x1, x2, alpha=0.05) :\n",
    "    \"\"\"\n",
    "    Calculate confidence interval of difference in mean assuming unequal variance (Welch's t-interval)\n",
    "    \"\"\"\n",
    "    n1, n2 = len(x1), len(x2)                                          # sample sizes\n",
    "    s1, s2 = np.var(x1, ddof=1), np.var(x2, ddof=1)                    # sample variances\n",
    "    df = (s1/n1 + s2/n2)**2 / ((s1/n1)**2/(n1-1) + (s2/n2)**2/(n2-1))  # degrees of freedom\n",
    "    t = stats.t.ppf(1 - alpha/2, df)                                   # t-critical value for 95% CI\n",
    "\n",
    "    lower = (np.mean(x1) - np.mean(x2)) - t * np.sqrt(s1 / len(x1) + s2 / len(x2))\n",
    "    upper = (np.mean(x1) - np.mean(x2)) + t * np.sqrt(s1 / len(x1) + s2 / len(x2))\n",
    "    return(lower, upper)"
   ]
  },
  {
   "cell_type": "code",
   "execution_count": 59,
   "metadata": {},
   "outputs": [
    {
     "name": "stdout",
     "output_type": "stream",
     "text": [
      "The 95% confidence interval of difference in means :\n",
      "( 0.03967508448019007 , 0.06047820950065087 )\n"
     ]
    }
   ],
   "source": [
    "lower, upper = ci_welch(bratio_2012, bratio_1975)\n",
    "print('The 95% confidence interval of difference in means :')\n",
    "print('(', lower, ',', upper, ')')"
   ]
  },
  {
   "cell_type": "markdown",
   "metadata": {},
   "source": [
    "So we believe that the range <strong>0.0397 to 0.0605</strong> contains <strong>the difference between the average Scandens bird's beak depth to length ratio of the year 2012 and 1975</strong> at 𝛼 = 5%.\n",
    "\n",
    "We are 95% confident that the Scandens bird's <strong>beak depth to length ratio mean in 2012</strong> got about <strong>0.0397 up to 0.0605 greater than in 1975.</strong>\n",
    "\n",
    "It means that for every millimeter gained in beak length, the birds in 2012 gained beak depth about 0.0397 mm up to 0.0605 mm deeper than the birds in 1975."
   ]
  }
 ],
 "metadata": {
  "celltoolbar": "Edit Metadata",
  "kernelspec": {
   "display_name": "Python 3",
   "language": "python",
   "name": "python3"
  },
  "language_info": {
   "codemirror_mode": {
    "name": "ipython",
    "version": 3
   },
   "file_extension": ".py",
   "mimetype": "text/x-python",
   "name": "python",
   "nbconvert_exporter": "python",
   "pygments_lexer": "ipython3",
   "version": "3.7.4"
  }
 },
 "nbformat": 4,
 "nbformat_minor": 2
}
